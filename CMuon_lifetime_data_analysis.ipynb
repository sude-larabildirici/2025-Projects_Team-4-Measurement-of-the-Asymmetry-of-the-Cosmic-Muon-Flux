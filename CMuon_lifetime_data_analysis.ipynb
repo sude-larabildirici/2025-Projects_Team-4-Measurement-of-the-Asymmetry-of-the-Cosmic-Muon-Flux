{
  "cells": [
    {
      "cell_type": "markdown",
      "metadata": {
        "id": "dxdYBLXNQe6V"
      },
      "source": [
        "# **Analysis of Muon lifetime data**\n",
        "With this interactive notebook you can analyse the lifetime data you collected with the MuonLab III detector to find the lifetime, or characteristic time, of muons. Before you start, **upload your file to CoLab by clicking the folder on the left side of the screen, and then the file with an arrow pointing up.** The notebook is based on the programming language Python. The notebook consists of the following steps:\n",
        "\n",
        "1. Read your data file and sort it on duration\n",
        "\n",
        "2. Visualise your data by plotting it as a histogram\n",
        "\n",
        "3. \"Fit\" your data to an exponential function to determine muon lifetime: $f(t) = Ae^{-Bt} + C$\n",
        "\n",
        "\n",
        "**All steps** have **two exercises**, most of which are done by changing the code below the exercises. To execute a code cell, press **shift + enter** at the same time.\n",
        "\n"
      ]
    },
    {
      "cell_type": "markdown",
      "metadata": {
        "id": "16VBYCFwQe6Z"
      },
      "source": [
        "## **1. Reading data**\n",
        "When you conducted your experiment(s), you might have noticed that your data was being saved in a single file ending in \".csv\", standing for \"comma-separated values\". This file saves data of all experiments possible with the MuonLab in their own column. You can open this file and view your data using a Python library called **pandas**. This library also allows you to perform operations on your data, like sorting it.\n",
        "\n",
        "\n",
        "### **Exercises**\n",
        "> **1.1** Start by having the notebook import your data file. Do this by changing the variable \"filename\" in the code cell below to the name of your file. Make sure to add \".csv\" at the end! If you entered the correct name, by running the code cell you should see the first 5 measured lifetimes appear on the screen.\n",
        "\n",
        "\n",
        "\n",
        "\n",
        "\n"
      ]
    },
    {
      "cell_type": "code",
      "source": [
        "# imports pandas library\n",
        "import pandas as pd\n",
        "\n",
        "\n",
        "\n",
        "### EX. 1.1 ###\n",
        "filename = \"YOUR FILENAME HERE.csv\"\n",
        "######\n",
        "\n",
        "\n",
        "\n",
        "dataframe_lifetimes = pd.DataFrame()\n",
        "\n",
        "try:\n",
        "  # reads your data file\n",
        "  dataframe_total = pd.read_csv(filename)\n",
        "\n",
        "  # selects the lifetime data\n",
        "  dataframe_lifetimes['Lifetimes (ns)'] = dataframe_total['Lifetimes (ns)']\n",
        "  dataframe_lifetimes.dropna(inplace=True)\n",
        "\n",
        "except:\n",
        "  print(\"Wrong name entered. No file has been uploaded with the name: {}\".format(filename))\n",
        "  pass\n",
        "\n",
        "# show the lifetime data on screen if the filename was entered correctly\n",
        "dataframe_lifetimes.head()"
      ],
      "metadata": {
        "colab": {
          "base_uri": "https://localhost:8080/",
          "height": 206
        },
        "id": "Wzr4ChtRRbkn",
        "outputId": "6f90a455-61ef-4357-ccf2-399b23ca002e"
      },
      "execution_count": null,
      "outputs": [
        {
          "output_type": "execute_result",
          "data": {
            "text/plain": [
              "   Lifetimes (ns)\n",
              "0          4610.0\n",
              "1           330.0\n",
              "2           360.0\n",
              "3          2350.0\n",
              "4           400.0"
            ],
            "text/html": [
              "\n",
              "  <div id=\"df-5d7c7c88-17e5-42ad-a9cb-c6fa0a8bfddd\">\n",
              "    <div class=\"colab-df-container\">\n",
              "      <div>\n",
              "<style scoped>\n",
              "    .dataframe tbody tr th:only-of-type {\n",
              "        vertical-align: middle;\n",
              "    }\n",
              "\n",
              "    .dataframe tbody tr th {\n",
              "        vertical-align: top;\n",
              "    }\n",
              "\n",
              "    .dataframe thead th {\n",
              "        text-align: right;\n",
              "    }\n",
              "</style>\n",
              "<table border=\"1\" class=\"dataframe\">\n",
              "  <thead>\n",
              "    <tr style=\"text-align: right;\">\n",
              "      <th></th>\n",
              "      <th>Lifetimes (ns)</th>\n",
              "    </tr>\n",
              "  </thead>\n",
              "  <tbody>\n",
              "    <tr>\n",
              "      <th>0</th>\n",
              "      <td>4610.0</td>\n",
              "    </tr>\n",
              "    <tr>\n",
              "      <th>1</th>\n",
              "      <td>330.0</td>\n",
              "    </tr>\n",
              "    <tr>\n",
              "      <th>2</th>\n",
              "      <td>360.0</td>\n",
              "    </tr>\n",
              "    <tr>\n",
              "      <th>3</th>\n",
              "      <td>2350.0</td>\n",
              "    </tr>\n",
              "    <tr>\n",
              "      <th>4</th>\n",
              "      <td>400.0</td>\n",
              "    </tr>\n",
              "  </tbody>\n",
              "</table>\n",
              "</div>\n",
              "      <button class=\"colab-df-convert\" onclick=\"convertToInteractive('df-5d7c7c88-17e5-42ad-a9cb-c6fa0a8bfddd')\"\n",
              "              title=\"Convert this dataframe to an interactive table.\"\n",
              "              style=\"display:none;\">\n",
              "        \n",
              "  <svg xmlns=\"http://www.w3.org/2000/svg\" height=\"24px\"viewBox=\"0 0 24 24\"\n",
              "       width=\"24px\">\n",
              "    <path d=\"M0 0h24v24H0V0z\" fill=\"none\"/>\n",
              "    <path d=\"M18.56 5.44l.94 2.06.94-2.06 2.06-.94-2.06-.94-.94-2.06-.94 2.06-2.06.94zm-11 1L8.5 8.5l.94-2.06 2.06-.94-2.06-.94L8.5 2.5l-.94 2.06-2.06.94zm10 10l.94 2.06.94-2.06 2.06-.94-2.06-.94-.94-2.06-.94 2.06-2.06.94z\"/><path d=\"M17.41 7.96l-1.37-1.37c-.4-.4-.92-.59-1.43-.59-.52 0-1.04.2-1.43.59L10.3 9.45l-7.72 7.72c-.78.78-.78 2.05 0 2.83L4 21.41c.39.39.9.59 1.41.59.51 0 1.02-.2 1.41-.59l7.78-7.78 2.81-2.81c.8-.78.8-2.07 0-2.86zM5.41 20L4 18.59l7.72-7.72 1.47 1.35L5.41 20z\"/>\n",
              "  </svg>\n",
              "      </button>\n",
              "      \n",
              "  <style>\n",
              "    .colab-df-container {\n",
              "      display:flex;\n",
              "      flex-wrap:wrap;\n",
              "      gap: 12px;\n",
              "    }\n",
              "\n",
              "    .colab-df-convert {\n",
              "      background-color: #E8F0FE;\n",
              "      border: none;\n",
              "      border-radius: 50%;\n",
              "      cursor: pointer;\n",
              "      display: none;\n",
              "      fill: #1967D2;\n",
              "      height: 32px;\n",
              "      padding: 0 0 0 0;\n",
              "      width: 32px;\n",
              "    }\n",
              "\n",
              "    .colab-df-convert:hover {\n",
              "      background-color: #E2EBFA;\n",
              "      box-shadow: 0px 1px 2px rgba(60, 64, 67, 0.3), 0px 1px 3px 1px rgba(60, 64, 67, 0.15);\n",
              "      fill: #174EA6;\n",
              "    }\n",
              "\n",
              "    [theme=dark] .colab-df-convert {\n",
              "      background-color: #3B4455;\n",
              "      fill: #D2E3FC;\n",
              "    }\n",
              "\n",
              "    [theme=dark] .colab-df-convert:hover {\n",
              "      background-color: #434B5C;\n",
              "      box-shadow: 0px 1px 3px 1px rgba(0, 0, 0, 0.15);\n",
              "      filter: drop-shadow(0px 1px 2px rgba(0, 0, 0, 0.3));\n",
              "      fill: #FFFFFF;\n",
              "    }\n",
              "  </style>\n",
              "\n",
              "      <script>\n",
              "        const buttonEl =\n",
              "          document.querySelector('#df-5d7c7c88-17e5-42ad-a9cb-c6fa0a8bfddd button.colab-df-convert');\n",
              "        buttonEl.style.display =\n",
              "          google.colab.kernel.accessAllowed ? 'block' : 'none';\n",
              "\n",
              "        async function convertToInteractive(key) {\n",
              "          const element = document.querySelector('#df-5d7c7c88-17e5-42ad-a9cb-c6fa0a8bfddd');\n",
              "          const dataTable =\n",
              "            await google.colab.kernel.invokeFunction('convertToInteractive',\n",
              "                                                     [key], {});\n",
              "          if (!dataTable) return;\n",
              "\n",
              "          const docLinkHtml = 'Like what you see? Visit the ' +\n",
              "            '<a target=\"_blank\" href=https://colab.research.google.com/notebooks/data_table.ipynb>data table notebook</a>'\n",
              "            + ' to learn more about interactive tables.';\n",
              "          element.innerHTML = '';\n",
              "          dataTable['output_type'] = 'display_data';\n",
              "          await google.colab.output.renderOutput(dataTable, element);\n",
              "          const docLink = document.createElement('div');\n",
              "          docLink.innerHTML = docLinkHtml;\n",
              "          element.appendChild(docLink);\n",
              "        }\n",
              "      </script>\n",
              "    </div>\n",
              "  </div>\n",
              "  "
            ]
          },
          "metadata": {},
          "execution_count": 7
        }
      ]
    },
    {
      "cell_type": "markdown",
      "metadata": {
        "id": "ZAxElkWIQe6b"
      },
      "source": [
        "\n",
        "\n",
        "> **1.2** Now that your lifetime data has been loaded, you can sort the lifetimes by their length. Do this by running the code cell below, which executes the \"sort_values\" command. You can now view the sorted measurement data to find the **shortest time**, the **second shortest time**, the **longest time**, and the **duration of the smallest possible time step of the MuonLab**. Fill these in in the code cell below. **Note:** the bold numbers on the left are the indices of the values, and the values on the right are the times you should look at."
      ]
    },
    {
      "cell_type": "code",
      "source": [
        "# sorts the lifetime data from short to long\n",
        "dataframe_lifetimes.sort_values(by=['Lifetimes (ns)'], inplace=True)\n",
        "\n",
        "# shows the sorted data on screen\n",
        "dataframe_lifetimes"
      ],
      "metadata": {
        "colab": {
          "base_uri": "https://localhost:8080/",
          "height": 783
        },
        "id": "VAUjQEwfedy8",
        "outputId": "b74450f2-9663-431f-d9b2-fc406a9c69e0"
      },
      "execution_count": null,
      "outputs": [
        {
          "output_type": "execute_result",
          "data": {
            "text/plain": [
              "     Lifetimes (ns)\n",
              "549           110.0\n",
              "265           110.0\n",
              "131           120.0\n",
              "263           120.0\n",
              "555           120.0\n",
              "..              ...\n",
              "86          19390.0\n",
              "305         19410.0\n",
              "236         19410.0\n",
              "419         19940.0\n",
              "363         19940.0\n",
              "\n",
              "[581 rows x 1 columns]"
            ],
            "text/html": [
              "\n",
              "  <div id=\"df-17ccc59d-96fb-4f7a-b6e5-681830c0c5b1\">\n",
              "    <div class=\"colab-df-container\">\n",
              "      <div>\n",
              "<style scoped>\n",
              "    .dataframe tbody tr th:only-of-type {\n",
              "        vertical-align: middle;\n",
              "    }\n",
              "\n",
              "    .dataframe tbody tr th {\n",
              "        vertical-align: top;\n",
              "    }\n",
              "\n",
              "    .dataframe thead th {\n",
              "        text-align: right;\n",
              "    }\n",
              "</style>\n",
              "<table border=\"1\" class=\"dataframe\">\n",
              "  <thead>\n",
              "    <tr style=\"text-align: right;\">\n",
              "      <th></th>\n",
              "      <th>Lifetimes (ns)</th>\n",
              "    </tr>\n",
              "  </thead>\n",
              "  <tbody>\n",
              "    <tr>\n",
              "      <th>549</th>\n",
              "      <td>110.0</td>\n",
              "    </tr>\n",
              "    <tr>\n",
              "      <th>265</th>\n",
              "      <td>110.0</td>\n",
              "    </tr>\n",
              "    <tr>\n",
              "      <th>131</th>\n",
              "      <td>120.0</td>\n",
              "    </tr>\n",
              "    <tr>\n",
              "      <th>263</th>\n",
              "      <td>120.0</td>\n",
              "    </tr>\n",
              "    <tr>\n",
              "      <th>555</th>\n",
              "      <td>120.0</td>\n",
              "    </tr>\n",
              "    <tr>\n",
              "      <th>...</th>\n",
              "      <td>...</td>\n",
              "    </tr>\n",
              "    <tr>\n",
              "      <th>86</th>\n",
              "      <td>19390.0</td>\n",
              "    </tr>\n",
              "    <tr>\n",
              "      <th>305</th>\n",
              "      <td>19410.0</td>\n",
              "    </tr>\n",
              "    <tr>\n",
              "      <th>236</th>\n",
              "      <td>19410.0</td>\n",
              "    </tr>\n",
              "    <tr>\n",
              "      <th>419</th>\n",
              "      <td>19940.0</td>\n",
              "    </tr>\n",
              "    <tr>\n",
              "      <th>363</th>\n",
              "      <td>19940.0</td>\n",
              "    </tr>\n",
              "  </tbody>\n",
              "</table>\n",
              "<p>581 rows × 1 columns</p>\n",
              "</div>\n",
              "      <button class=\"colab-df-convert\" onclick=\"convertToInteractive('df-17ccc59d-96fb-4f7a-b6e5-681830c0c5b1')\"\n",
              "              title=\"Convert this dataframe to an interactive table.\"\n",
              "              style=\"display:none;\">\n",
              "        \n",
              "  <svg xmlns=\"http://www.w3.org/2000/svg\" height=\"24px\"viewBox=\"0 0 24 24\"\n",
              "       width=\"24px\">\n",
              "    <path d=\"M0 0h24v24H0V0z\" fill=\"none\"/>\n",
              "    <path d=\"M18.56 5.44l.94 2.06.94-2.06 2.06-.94-2.06-.94-.94-2.06-.94 2.06-2.06.94zm-11 1L8.5 8.5l.94-2.06 2.06-.94-2.06-.94L8.5 2.5l-.94 2.06-2.06.94zm10 10l.94 2.06.94-2.06 2.06-.94-2.06-.94-.94-2.06-.94 2.06-2.06.94z\"/><path d=\"M17.41 7.96l-1.37-1.37c-.4-.4-.92-.59-1.43-.59-.52 0-1.04.2-1.43.59L10.3 9.45l-7.72 7.72c-.78.78-.78 2.05 0 2.83L4 21.41c.39.39.9.59 1.41.59.51 0 1.02-.2 1.41-.59l7.78-7.78 2.81-2.81c.8-.78.8-2.07 0-2.86zM5.41 20L4 18.59l7.72-7.72 1.47 1.35L5.41 20z\"/>\n",
              "  </svg>\n",
              "      </button>\n",
              "      \n",
              "  <style>\n",
              "    .colab-df-container {\n",
              "      display:flex;\n",
              "      flex-wrap:wrap;\n",
              "      gap: 12px;\n",
              "    }\n",
              "\n",
              "    .colab-df-convert {\n",
              "      background-color: #E8F0FE;\n",
              "      border: none;\n",
              "      border-radius: 50%;\n",
              "      cursor: pointer;\n",
              "      display: none;\n",
              "      fill: #1967D2;\n",
              "      height: 32px;\n",
              "      padding: 0 0 0 0;\n",
              "      width: 32px;\n",
              "    }\n",
              "\n",
              "    .colab-df-convert:hover {\n",
              "      background-color: #E2EBFA;\n",
              "      box-shadow: 0px 1px 2px rgba(60, 64, 67, 0.3), 0px 1px 3px 1px rgba(60, 64, 67, 0.15);\n",
              "      fill: #174EA6;\n",
              "    }\n",
              "\n",
              "    [theme=dark] .colab-df-convert {\n",
              "      background-color: #3B4455;\n",
              "      fill: #D2E3FC;\n",
              "    }\n",
              "\n",
              "    [theme=dark] .colab-df-convert:hover {\n",
              "      background-color: #434B5C;\n",
              "      box-shadow: 0px 1px 3px 1px rgba(0, 0, 0, 0.15);\n",
              "      filter: drop-shadow(0px 1px 2px rgba(0, 0, 0, 0.3));\n",
              "      fill: #FFFFFF;\n",
              "    }\n",
              "  </style>\n",
              "\n",
              "      <script>\n",
              "        const buttonEl =\n",
              "          document.querySelector('#df-17ccc59d-96fb-4f7a-b6e5-681830c0c5b1 button.colab-df-convert');\n",
              "        buttonEl.style.display =\n",
              "          google.colab.kernel.accessAllowed ? 'block' : 'none';\n",
              "\n",
              "        async function convertToInteractive(key) {\n",
              "          const element = document.querySelector('#df-17ccc59d-96fb-4f7a-b6e5-681830c0c5b1');\n",
              "          const dataTable =\n",
              "            await google.colab.kernel.invokeFunction('convertToInteractive',\n",
              "                                                     [key], {});\n",
              "          if (!dataTable) return;\n",
              "\n",
              "          const docLinkHtml = 'Like what you see? Visit the ' +\n",
              "            '<a target=\"_blank\" href=https://colab.research.google.com/notebooks/data_table.ipynb>data table notebook</a>'\n",
              "            + ' to learn more about interactive tables.';\n",
              "          element.innerHTML = '';\n",
              "          dataTable['output_type'] = 'display_data';\n",
              "          await google.colab.output.renderOutput(dataTable, element);\n",
              "          const docLink = document.createElement('div');\n",
              "          docLink.innerHTML = docLinkHtml;\n",
              "          element.appendChild(docLink);\n",
              "        }\n",
              "      </script>\n",
              "    </div>\n",
              "  </div>\n",
              "  "
            ]
          },
          "metadata": {},
          "execution_count": 12
        }
      ]
    },
    {
      "cell_type": "code",
      "source": [
        "### EX. 1.2 ###\n",
        "shortest_time = 0.0 # CHANGE THE VALUE\n",
        "second_shortest_time = 0.0 # CHANGE THE VALUE\n",
        "longest_time = 0.0 # CHANGE THE VALUE\n",
        "duration_of_timestep = 0.0 # CHANGE THE VALUE\n",
        "######\n",
        "\n",
        "\n",
        "\n",
        "# displays the values you found on the screen\n",
        "if shortest_time != 0:\n",
        "  print(f\"The shortest lifetime measured was: {shortest_time} ns.\")\n",
        "  print(f\"The second shortest lifetime measured was: {second_shortest_time} ns.\")\n",
        "  print(f\"The longest lifetime measured was: {longest_time} ns.\")\n",
        "  print(f\"The duration of a single timestep was: {duration_of_timestep} ns.\")\n",
        "  \n",
        "else:\n",
        "  print(\"CHANGE THE VALUES IN THIS CODE CELL FROM 0 TO THE TIMES YOU FOUND IN THE DATA\")\n"
      ],
      "metadata": {
        "colab": {
          "base_uri": "https://localhost:8080/"
        },
        "id": "MBizeTUUe6XN",
        "outputId": "3d459bae-c0ac-478c-90a6-841f42729a21"
      },
      "execution_count": null,
      "outputs": [
        {
          "output_type": "stream",
          "name": "stdout",
          "text": [
            "The shortest lifetime measured was: 110.0 ns.\n",
            "The second shortest lifetime measured was: 120.0 ns.\n",
            "The longest lifetime measured was: 19940.0 ns.\n",
            "The duration of a single timestep was: 10.0 ns.\n"
          ]
        }
      ]
    },
    {
      "cell_type": "markdown",
      "source": [
        "## **2. Plotting your data as a histogram**\n",
        "Seeing your data in its \"raw\" form doesn't tell you much about the way it is structured. To see how often each time interval was measured, you have to visualise your data by plotting it. You will be plotting a bar chart, also known as a histogram. This type of plot has some important settings that you can adjust; **amount of bins**, **lower limit of the x-axis** and **upper limit of the x-axis**.\n",
        " \n",
        "\n",
        "\n",
        "*   The amount of bins represents the amount of intervals the program will divide your data in; the amount of **bars** your plot will have.\n",
        "*   The lower and upper limit of the x-axis set which possible x-values you want to display in your plot (only the values between the lower and upper limit are displayed).\n",
        "\n",
        "### **Exercises**\n",
        "\n",
        "\n",
        "> **2.1** In the code cell below, change the values **bins, lower_limit_x** and **upper_limit** until you get a good visualisation of your data. You should see a similar distribution as in the program you used to do the measurements. (hints: for the bins, think about the amount of bins you used in the measurement program. Your plot should display a smooth curve. for the x-axis limits, think about your answers to exercise **1.2**.)\n",
        "\n",
        "\n",
        "\n",
        "\n"
      ],
      "metadata": {
        "id": "bGfSeu05j111"
      }
    },
    {
      "cell_type": "code",
      "source": [
        "# imports plotting library\n",
        "import matplotlib.pyplot as plt\n",
        "\n",
        "\n",
        "\n",
        "### EX. 2.1 ###\n",
        "bins = 2 # CHANGE THE VALUE\n",
        "lower_limit_x = -10000\n",
        "upper_limit_x = 30000\n",
        "######\n",
        "\n",
        "\n",
        "\n",
        "# plots your data in a histogram\n",
        "dataframe_lifetimes.hist(bins=bins, \n",
        "                         figsize=([14,10]), \n",
        "                         linewidth=1, \n",
        "                         edgecolor='black', \n",
        "                         color=[230 / 255, 25 / 255, 61 / 255],\n",
        "                        )\n",
        "plt.xlim(lower_limit_x, upper_limit_x)\n",
        "plt.xlabel(\"Time (nanoseconds)\")\n",
        "plt.ylabel(\"Counts\")"
      ],
      "metadata": {
        "colab": {
          "base_uri": "https://localhost:8080/",
          "height": 241
        },
        "id": "3YvO-XMLlJGP",
        "outputId": "5147993c-c050-4a09-8df4-5d70bbe84d99"
      },
      "execution_count": null,
      "outputs": [
        {
          "output_type": "error",
          "ename": "NameError",
          "evalue": "ignored",
          "traceback": [
            "\u001b[0;31m---------------------------------------------------------------------------\u001b[0m",
            "\u001b[0;31mNameError\u001b[0m                                 Traceback (most recent call last)",
            "\u001b[0;32m<ipython-input-1-dcb2e04a6dab>\u001b[0m in \u001b[0;36m<module>\u001b[0;34m()\u001b[0m\n\u001b[1;32m     13\u001b[0m \u001b[0;34m\u001b[0m\u001b[0m\n\u001b[1;32m     14\u001b[0m \u001b[0;31m# plot your data in a histogram\u001b[0m\u001b[0;34m\u001b[0m\u001b[0;34m\u001b[0m\u001b[0;34m\u001b[0m\u001b[0m\n\u001b[0;32m---> 15\u001b[0;31m dataframe_lifetimes.hist(bins=bins, \n\u001b[0m\u001b[1;32m     16\u001b[0m                          \u001b[0mfigsize\u001b[0m\u001b[0;34m=\u001b[0m\u001b[0;34m(\u001b[0m\u001b[0;34m[\u001b[0m\u001b[0;36m14\u001b[0m\u001b[0;34m,\u001b[0m\u001b[0;36m10\u001b[0m\u001b[0;34m]\u001b[0m\u001b[0;34m)\u001b[0m\u001b[0;34m,\u001b[0m\u001b[0;34m\u001b[0m\u001b[0;34m\u001b[0m\u001b[0m\n\u001b[1;32m     17\u001b[0m                          \u001b[0mlinewidth\u001b[0m\u001b[0;34m=\u001b[0m\u001b[0;36m1\u001b[0m\u001b[0;34m,\u001b[0m\u001b[0;34m\u001b[0m\u001b[0;34m\u001b[0m\u001b[0m\n",
            "\u001b[0;31mNameError\u001b[0m: name 'dataframe_lifetimes' is not defined"
          ]
        }
      ]
    },
    {
      "cell_type": "markdown",
      "source": [
        "\n",
        "\n",
        "> **2.2** As mentioned in the introduction, the data you took could follow a function of the form $f(t) = Ae^{-Bt} + C$, also known as an **exponential distribution**. Sketch the shape of the graph of this function on paper. Note what attributes of your sketch the function parameters $A$, $B$ and $C$ represent. You can also look at the shape of the plot you made in exercise **2.1**.\n",
        "\n",
        "\n",
        "> 1.   **Parameter** $A$: *type your answer here*\n",
        "\n",
        "> 2.   **Parameter** $B$: *type your answer here*\n",
        "\n",
        "> 3.   **Parameter** $C$: *type your answer here*\n",
        "\n",
        "\n"
      ],
      "metadata": {
        "id": "8s5yoQhlsLnD"
      }
    },
    {
      "cell_type": "markdown",
      "source": [
        "## **3. Fitting your data to an exponential function**\n",
        "Having visualised your data in a histogram and having sketched an exponential distribution, you might have observed that the shape of your data seems to match that of an exponential distribution. This means that the duration of the process you measured, namely the decay of muons, could be described with the previously seen function $f(t) = Ae^{-Bt} + C$. When applied to muon lifetime, this function takes the form $N(t) = N_0 e^{-\\lambda t}$. Here $N_0$ is the amount of particles at $t=0$, $\\lambda$ is the decay constant and $C = 0$. You can use another Python package called **lmfit** to find the parameters $N_0$ and $\\lambda$ that make the exponential function fit your data best. Using the optimal values of these parameters you can then find the lifetime of a muon.\n",
        "\n",
        "### **Exercises**\n",
        "\n",
        "> **3.1** Run the following two code cells. The first cell temporarily installs the **lmfit**-module (this might take a second). The second cell first prints the results of the fitting procedure, and then plots your data and a line corresponding to the exponential function with the optimal parameter values it found for $N_0$ and $\\lambda$. Check if you think the line aligns well with your data, and if it does, note the values found for $N_0$ and $\\lambda$.\n",
        "(**note:** the data the fit function uses **depends on the amount of bins you chose in exercise 2.1**. If your fit line doesn't align well with your data, make sure you are using a **correct amount of bins!**)\n",
        "\n",
        "> 1.   **Value found for** $N_0$: *type your answer here*\n",
        "\n",
        "> 2.   **Value found for** $\\lambda$: *type your answer here*\n"
      ],
      "metadata": {
        "id": "Sz5LNf-ZtiIS"
      }
    },
    {
      "cell_type": "code",
      "source": [
        "# installs the module (this might take a few seconds)\n",
        "!pip install lmfit\n",
        "from lmfit import models\n",
        "import numpy as np"
      ],
      "metadata": {
        "colab": {
          "base_uri": "https://localhost:8080/"
        },
        "id": "mGgQdZ_xlNHk",
        "outputId": "561a2b16-791a-4da5-bbd0-8941f6a34ea6"
      },
      "execution_count": null,
      "outputs": [
        {
          "output_type": "stream",
          "name": "stdout",
          "text": [
            "Looking in indexes: https://pypi.org/simple, https://us-python.pkg.dev/colab-wheels/public/simple/\n",
            "Collecting lmfit\n",
            "  Downloading lmfit-1.0.3.tar.gz (292 kB)\n",
            "\u001b[K     |████████████████████████████████| 292 kB 4.3 MB/s \n",
            "\u001b[?25hCollecting asteval>=0.9.22\n",
            "  Downloading asteval-0.9.27-py3-none-any.whl (17 kB)\n",
            "Requirement already satisfied: numpy>=1.18 in /usr/local/lib/python3.7/dist-packages (from lmfit) (1.21.6)\n",
            "Requirement already satisfied: scipy>=1.4 in /usr/local/lib/python3.7/dist-packages (from lmfit) (1.7.3)\n",
            "Collecting uncertainties>=3.0.1\n",
            "  Downloading uncertainties-3.1.7-py2.py3-none-any.whl (98 kB)\n",
            "\u001b[K     |████████████████████████████████| 98 kB 8.9 MB/s \n",
            "\u001b[?25hRequirement already satisfied: importlib-metadata in /usr/local/lib/python3.7/dist-packages (from asteval>=0.9.22->lmfit) (4.12.0)\n",
            "Requirement already satisfied: future in /usr/local/lib/python3.7/dist-packages (from uncertainties>=3.0.1->lmfit) (0.16.0)\n",
            "Requirement already satisfied: zipp>=0.5 in /usr/local/lib/python3.7/dist-packages (from importlib-metadata->asteval>=0.9.22->lmfit) (3.8.0)\n",
            "Requirement already satisfied: typing-extensions>=3.6.4 in /usr/local/lib/python3.7/dist-packages (from importlib-metadata->asteval>=0.9.22->lmfit) (4.1.1)\n",
            "Building wheels for collected packages: lmfit\n",
            "  Building wheel for lmfit (setup.py) ... \u001b[?25l\u001b[?25hdone\n",
            "  Created wheel for lmfit: filename=lmfit-1.0.3-py3-none-any.whl size=84413 sha256=271e21a063c9eb57f5b0144c046ceac92cf1c03c5999bcffea543acd0041d515\n",
            "  Stored in directory: /root/.cache/pip/wheels/b9/7a/d1/236aa0f8196b264fda481a112f7cfb1bfde7bfb20235f8e331\n",
            "Successfully built lmfit\n",
            "Installing collected packages: uncertainties, asteval, lmfit\n",
            "Successfully installed asteval-0.9.27 lmfit-1.0.3 uncertainties-3.1.7\n"
          ]
        }
      ]
    },
    {
      "cell_type": "code",
      "source": [
        "# turns data into histogram data\n",
        "y_data, bin_edges = np.histogram(dataframe_lifetimes['Lifetimes (ns)'], bins=bins)\n",
        "t_data = bin_edges[1:] - (bin_edges[1] - bin_edges[0]) / 2\n",
        "\n",
        "# creates model function: an exponential model + a constant C\n",
        "f = lambda t, N_0, l: N_0 * np.exp(-l * t)\n",
        "model = models.Model(f, name='Exponential model')\n",
        "\n",
        "# fits your model: find the optimal values for A, B and C\n",
        "fit = model.fit(y_data, t=t_data, N_0=10, l=1e-4)\n",
        "\n",
        "# plots and displays the results of your fit\n",
        "fit.plot()\n",
        "fit"
      ],
      "metadata": {
        "colab": {
          "base_uri": "https://localhost:8080/",
          "height": 873
        },
        "id": "Eduq-0Ou3YL9",
        "outputId": "cc7995db-5a5c-47ef-bea6-3687d2364164"
      },
      "execution_count": null,
      "outputs": [
        {
          "output_type": "execute_result",
          "data": {
            "text/plain": [
              "<lmfit.model.ModelResult at 0x7fc3f2a22c90>"
            ],
            "text/html": [
              "<h2> Model</h2> Model(Exponential model) <h2>Fit Statistics</h2><table><tr><td>fitting method</td><td>leastsq</td><td></td></tr><tr><td># function evals</td><td>52</td><td></td></tr><tr><td># data points</td><td>64</td><td></td></tr><tr><td># variables</td><td>2</td><td></td></tr><tr><td>chi-square</td><td> 5478.15431</td><td></td></tr><tr><td>reduced chi-square</td><td> 88.3573276</td><td></td></tr><tr><td>Akaike info crit.</td><td> 288.776988</td><td></td></tr><tr><td>Bayesian info crit.</td><td> 293.094754</td><td></td></tr></table><h2>Variables</h2><table><tr><th> name </th><th> value </th><th> standard error </th><th> relative error </th><th> initial value </th><th> min </th><th> max </th><th> vary </th></tr><tr><td> N_0 </td><td>  469.462746 </td><td>  58.9536209 </td><td> (12.56%) </td><td> 10 </td><td>        -inf </td><td>         inf </td><td> True </td></tr><tr><td> l </td><td>  0.00341622 </td><td>  3.7972e-04 </td><td> (11.12%) </td><td> 0.0001 </td><td>        -inf </td><td>         inf </td><td> True </td></tr></table><h2>Correlations (unreported correlations are < 0.100)</h2><table><tr><td>N_0</td><td>l</td><td>0.9292</td></tr></table>"
            ]
          },
          "metadata": {},
          "execution_count": 16
        },
        {
          "output_type": "display_data",
          "data": {
            "text/plain": [
              "<Figure size 432x432 with 2 Axes>"
            ],
            "image/png": "[encoded data removed]"
          },
          "metadata": {
            "needs_background": "light"
          }
        }
      ]
    },
    {
      "cell_type": "markdown",
      "source": [
        "> **3.2** As you have shown, your data can be described using the function $N(t) = N_0 e^{-\\lambda t}$, where $\\lambda$ is the **decay constant**. However, this same function can also be rewritten as $N(t) = N_0 e^{- t / \\tau}$, where $\\tau$ is the **characteristic time**. Using this information and the optimal value of $\\lambda$ you found with your fit function, find $\\tau$. \n",
        "\n",
        "> 1. **Value found for** $\\tau$: *type your answer here*"
      ],
      "metadata": {
        "id": "8vyHPaYlEDLQ"
      }
    },
    {
      "cell_type": "markdown",
      "source": [
        "Congratulations! you have now found the decay time of muon particles using your own data."
      ],
      "metadata": {
        "id": "_NdQUl95FXLs"
      }
    }
  ],
  "metadata": {
    "language_info": {
      "name": "python"
    },
    "orig_nbformat": 4,
    "colab": {
      "name": "CMuon_lifetime_data_analysis.ipynb",
      "provenance": []
    },
    "kernelspec": {
      "name": "python3",
      "display_name": "Python 3"
    },
    "gpuClass": "standard"
  },
  "nbformat": 4,
  "nbformat_minor": 0
}