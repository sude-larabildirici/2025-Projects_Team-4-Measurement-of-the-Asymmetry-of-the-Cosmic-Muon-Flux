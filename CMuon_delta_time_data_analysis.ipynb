{
  "cells": [
    {
      "cell_type": "markdown",
      "metadata": {
        "id": "dxdYBLXNQe6V"
      },
      "source": [
        "# **Analysis of Muon $\\Delta$-time data**\n",
        "With this interactive notebook you can analyse the lifetime data you collected with the MuonLab III detector to find the velocity of muons. Before you start, **upload your file to CoLab by clicking the folder on the left side of the screen, and then the file with an arrow pointing up.** The notebook is based on the programming language Python. The notebook consists of the following steps:\n",
        "\n",
        "1. Read your data file and sort it on duration\n",
        "\n",
        "2. Visualise your data by plotting it as a histogram\n",
        "\n",
        "3. Determine the Muon velocity with $\\Delta$-time values\n",
        "\n",
        "\n",
        "**All steps** have **two exercises**, most of which are done by changing the code below the exercises. To execute a code cell, press **shift + enter** at the same time.\n",
        "\n"
      ]
    },
    {
      "cell_type": "markdown",
      "metadata": {
        "id": "16VBYCFwQe6Z"
      },
      "source": [
        "## **1. Reading data**\n",
        "When you conducted your experiment(s), you might have noticed that your data was being saved in a single file ending in \".csv\", standing for \"comma-separated values\". This file saves data of all experiments possible with the MuonLab in their own column. You can open this file and view your data using a Python library called **pandas**. This library also allows you to perform operations on your data, like sorting it.\n",
        "\n",
        "\n",
        "### **Exercises**\n",
        "> **1.1** Start by having the notebook import your data file. Do this by changing the variable \"filename\" in the code cell below to the name of your file. Make sure to add \".csv\" at the end! If you entered the correct name, by running the code cell you should see the first 5 measured lifetimes appear on the screen.\n",
        "\n",
        "\n",
        "\n",
        "\n",
        "\n"
      ]
    },
    {
      "cell_type": "code",
      "source": [
        "# imports pandas library\n",
        "import pandas as pd\n",
        "\n",
        "\n",
        "\n",
        "### EX. 1.1 ###\n",
        "filename = \"YOUR FILENAME HERE.csv\"\n",
        "######\n",
        "\n",
        "\n",
        "\n",
        "dataframe_dtimes = pd.DataFrame()\n",
        "\n",
        "try:\n",
        "  # reads your data file\n",
        "  dataframe_total = pd.read_csv(filename)\n",
        "\n",
        "  # selects the delta time data\n",
        "  dataframe_dtimes['Delta times (ns)'] = dataframe_total['Delta times (ns)']\n",
        "  dataframe_dtimes.dropna(inplace=True)\n",
        "\n",
        "except:\n",
        "  print(\"Wrong name entered. No file has been uploaded with the name: {}\".format(filename))\n",
        "  pass\n",
        "\n",
        "# show the delta time data on screen if the filename was entered correctly\n",
        "dataframe_dtimes.head()"
      ],
      "metadata": {
        "colab": {
          "base_uri": "https://localhost:8080/",
          "height": 67
        },
        "id": "Wzr4ChtRRbkn",
        "outputId": "6bdf244b-e781-415e-ce5c-71416905e756"
      },
      "execution_count": 1,
      "outputs": [
        {
          "output_type": "stream",
          "name": "stdout",
          "text": [
            "Wrong name entered. No file has been uploaded with the name: YOUR FILENAME HERE.csv\n"
          ]
        },
        {
          "output_type": "execute_result",
          "data": {
            "text/plain": [
              "Empty DataFrame\n",
              "Columns: []\n",
              "Index: []"
            ],
            "text/html": [
              "\n",
              "  <div id=\"df-8a9acda0-4e57-4743-8bc3-e14d17654f55\">\n",
              "    <div class=\"colab-df-container\">\n",
              "      <div>\n",
              "<style scoped>\n",
              "    .dataframe tbody tr th:only-of-type {\n",
              "        vertical-align: middle;\n",
              "    }\n",
              "\n",
              "    .dataframe tbody tr th {\n",
              "        vertical-align: top;\n",
              "    }\n",
              "\n",
              "    .dataframe thead th {\n",
              "        text-align: right;\n",
              "    }\n",
              "</style>\n",
              "<table border=\"1\" class=\"dataframe\">\n",
              "  <thead>\n",
              "    <tr style=\"text-align: right;\">\n",
              "      <th></th>\n",
              "    </tr>\n",
              "  </thead>\n",
              "  <tbody>\n",
              "  </tbody>\n",
              "</table>\n",
              "</div>\n",
              "      <button class=\"colab-df-convert\" onclick=\"convertToInteractive('df-8a9acda0-4e57-4743-8bc3-e14d17654f55')\"\n",
              "              title=\"Convert this dataframe to an interactive table.\"\n",
              "              style=\"display:none;\">\n",
              "        \n",
              "  <svg xmlns=\"http://www.w3.org/2000/svg\" height=\"24px\"viewBox=\"0 0 24 24\"\n",
              "       width=\"24px\">\n",
              "    <path d=\"M0 0h24v24H0V0z\" fill=\"none\"/>\n",
              "    <path d=\"M18.56 5.44l.94 2.06.94-2.06 2.06-.94-2.06-.94-.94-2.06-.94 2.06-2.06.94zm-11 1L8.5 8.5l.94-2.06 2.06-.94-2.06-.94L8.5 2.5l-.94 2.06-2.06.94zm10 10l.94 2.06.94-2.06 2.06-.94-2.06-.94-.94-2.06-.94 2.06-2.06.94z\"/><path d=\"M17.41 7.96l-1.37-1.37c-.4-.4-.92-.59-1.43-.59-.52 0-1.04.2-1.43.59L10.3 9.45l-7.72 7.72c-.78.78-.78 2.05 0 2.83L4 21.41c.39.39.9.59 1.41.59.51 0 1.02-.2 1.41-.59l7.78-7.78 2.81-2.81c.8-.78.8-2.07 0-2.86zM5.41 20L4 18.59l7.72-7.72 1.47 1.35L5.41 20z\"/>\n",
              "  </svg>\n",
              "      </button>\n",
              "      \n",
              "  <style>\n",
              "    .colab-df-container {\n",
              "      display:flex;\n",
              "      flex-wrap:wrap;\n",
              "      gap: 12px;\n",
              "    }\n",
              "\n",
              "    .colab-df-convert {\n",
              "      background-color: #E8F0FE;\n",
              "      border: none;\n",
              "      border-radius: 50%;\n",
              "      cursor: pointer;\n",
              "      display: none;\n",
              "      fill: #1967D2;\n",
              "      height: 32px;\n",
              "      padding: 0 0 0 0;\n",
              "      width: 32px;\n",
              "    }\n",
              "\n",
              "    .colab-df-convert:hover {\n",
              "      background-color: #E2EBFA;\n",
              "      box-shadow: 0px 1px 2px rgba(60, 64, 67, 0.3), 0px 1px 3px 1px rgba(60, 64, 67, 0.15);\n",
              "      fill: #174EA6;\n",
              "    }\n",
              "\n",
              "    [theme=dark] .colab-df-convert {\n",
              "      background-color: #3B4455;\n",
              "      fill: #D2E3FC;\n",
              "    }\n",
              "\n",
              "    [theme=dark] .colab-df-convert:hover {\n",
              "      background-color: #434B5C;\n",
              "      box-shadow: 0px 1px 3px 1px rgba(0, 0, 0, 0.15);\n",
              "      filter: drop-shadow(0px 1px 2px rgba(0, 0, 0, 0.3));\n",
              "      fill: #FFFFFF;\n",
              "    }\n",
              "  </style>\n",
              "\n",
              "      <script>\n",
              "        const buttonEl =\n",
              "          document.querySelector('#df-8a9acda0-4e57-4743-8bc3-e14d17654f55 button.colab-df-convert');\n",
              "        buttonEl.style.display =\n",
              "          google.colab.kernel.accessAllowed ? 'block' : 'none';\n",
              "\n",
              "        async function convertToInteractive(key) {\n",
              "          const element = document.querySelector('#df-8a9acda0-4e57-4743-8bc3-e14d17654f55');\n",
              "          const dataTable =\n",
              "            await google.colab.kernel.invokeFunction('convertToInteractive',\n",
              "                                                     [key], {});\n",
              "          if (!dataTable) return;\n",
              "\n",
              "          const docLinkHtml = 'Like what you see? Visit the ' +\n",
              "            '<a target=\"_blank\" href=https://colab.research.google.com/notebooks/data_table.ipynb>data table notebook</a>'\n",
              "            + ' to learn more about interactive tables.';\n",
              "          element.innerHTML = '';\n",
              "          dataTable['output_type'] = 'display_data';\n",
              "          await google.colab.output.renderOutput(dataTable, element);\n",
              "          const docLink = document.createElement('div');\n",
              "          docLink.innerHTML = docLinkHtml;\n",
              "          element.appendChild(docLink);\n",
              "        }\n",
              "      </script>\n",
              "    </div>\n",
              "  </div>\n",
              "  "
            ]
          },
          "metadata": {},
          "execution_count": 1
        }
      ]
    },
    {
      "cell_type": "markdown",
      "source": [
        "## **2. Plotting your data as a histogram**\n",
        "Seeing your data in its \"raw\" form doesn't tell you much about the way it is structured. To see how often each time interval was measured, you have to visualise your data by plotting it. You will be plotting a bar chart, also known as a histogram. This type of plot has some important settings that you can adjust; **amount of bins**, **lower limit of the x-axis** and **upper limit of the x-axis**.\n",
        " \n",
        "\n",
        "\n",
        "*   The amount of bins represents the amount of intervals the program will divide your data in; the amount of **bars** your plot will have.\n",
        "*   The lower and upper limit of the x-axis set which possible x-values you want to display in your plot (only the values between the lower and upper limit are displayed).\n",
        "\n",
        "### **Exercises**\n",
        "\n",
        "\n",
        "> **2.1** In the code cell below, change the values **bins, lower_limit_x** and **upper_limit** until you get a good visualisation of your data. You should see a similar distribution as in the program you used to do the measurements. (hints: for the bins, think about the amount of bins you used in the measurement program. For the x-axis limits, make sure all of your data falls within your limits.)\n",
        "\n",
        "\n",
        "\n",
        "\n"
      ],
      "metadata": {
        "id": "bGfSeu05j111"
      }
    },
    {
      "cell_type": "code",
      "source": [
        "# imports plotting library\n",
        "import matplotlib.pyplot as plt\n",
        "\n",
        "\n",
        "\n",
        "### EX. 2.1 ###\n",
        "bins = 2 # CHANGE THE VALUE\n",
        "lower_limit_x = -10000\n",
        "upper_limit_x = 30000\n",
        "######\n",
        "\n",
        "\n",
        "\n",
        "# plots your data in a histogram\n",
        "dataframe_dtimes.hist(bins=bins, \n",
        "                         figsize=([14,10]), \n",
        "                         linewidth=1, \n",
        "                         edgecolor='black', \n",
        "                         color=[230 / 255, 25 / 255, 61 / 255],\n",
        "                        )\n",
        "plt.xlim(lower_limit_x, upper_limit_x)\n",
        "plt.xlabel(\"Time (nanoseconds)\")\n",
        "plt.ylabel(\"Counts\")"
      ],
      "metadata": {
        "colab": {
          "base_uri": "https://localhost:8080/",
          "height": 241
        },
        "id": "3YvO-XMLlJGP",
        "outputId": "5147993c-c050-4a09-8df4-5d70bbe84d99"
      },
      "execution_count": null,
      "outputs": [
        {
          "output_type": "error",
          "ename": "NameError",
          "evalue": "ignored",
          "traceback": [
            "\u001b[0;31m---------------------------------------------------------------------------\u001b[0m",
            "\u001b[0;31mNameError\u001b[0m                                 Traceback (most recent call last)",
            "\u001b[0;32m<ipython-input-1-dcb2e04a6dab>\u001b[0m in \u001b[0;36m<module>\u001b[0;34m()\u001b[0m\n\u001b[1;32m     13\u001b[0m \u001b[0;34m\u001b[0m\u001b[0m\n\u001b[1;32m     14\u001b[0m \u001b[0;31m# plot your data in a histogram\u001b[0m\u001b[0;34m\u001b[0m\u001b[0;34m\u001b[0m\u001b[0;34m\u001b[0m\u001b[0m\n\u001b[0;32m---> 15\u001b[0;31m dataframe_lifetimes.hist(bins=bins, \n\u001b[0m\u001b[1;32m     16\u001b[0m                          \u001b[0mfigsize\u001b[0m\u001b[0;34m=\u001b[0m\u001b[0;34m(\u001b[0m\u001b[0;34m[\u001b[0m\u001b[0;36m14\u001b[0m\u001b[0;34m,\u001b[0m\u001b[0;36m10\u001b[0m\u001b[0;34m]\u001b[0m\u001b[0;34m)\u001b[0m\u001b[0;34m,\u001b[0m\u001b[0;34m\u001b[0m\u001b[0;34m\u001b[0m\u001b[0m\n\u001b[1;32m     17\u001b[0m                          \u001b[0mlinewidth\u001b[0m\u001b[0;34m=\u001b[0m\u001b[0;36m1\u001b[0m\u001b[0;34m,\u001b[0m\u001b[0;34m\u001b[0m\u001b[0;34m\u001b[0m\u001b[0m\n",
            "\u001b[0;31mNameError\u001b[0m: name 'dataframe_lifetimes' is not defined"
          ]
        }
      ]
    },
    {
      "cell_type": "markdown",
      "source": [
        "\n",
        "\n",
        "> **2.2** If you chose your settings correctly, you should now see one \"bin\" (bar) that is a lot higher than the others. This is the most frequent time between two hits on your detectors. Which time did you find?\n",
        "\n",
        "**Solution:** When collecting the sample dataset there was no vertical distance between the detectors. This results in finding a most frequent $\\Delta t$ of 0 ns. If a vertical distance was introduced a non-zero value should be found. If a negative value is found, the top and bottom detectors were switched in the setup. The analysis can continue, but a negative velocity will be found.\n",
        "\n",
        "> - **Most common value for $\\Delta t$:** 0 ns\n",
        "\n"
      ],
      "metadata": {
        "id": "8s5yoQhlsLnD"
      }
    },
    {
      "cell_type": "markdown",
      "source": [
        "## **3.Determining velocity**\n",
        "Now that you have found the most frequent $\\Delta t$ between your two detectors, you can determine the velocity the muons must have had to reach this time interval. Recall that a velocity $v$ simply tells you how much distance something covers in a certain amount of time; in a formula, $v = \\frac{\\Delta x}{\\Delta t}$. We now know $\\Delta t$. This means that if we also know $\\Delta x$, we can find the Muon velocity.\n",
        "\n",
        "### **Exercises**\n",
        "\n",
        "> To find $v$, we must find $\\Delta x$. In your setup, which distance corresponds to $\\Delta x$? How far was this distance?\n",
        "\n",
        "> 1.   **Value of distance** $\\Delta x$: *type your answer here*\n",
        "\n",
        "If you know $\\Delta t$ and $\\Delta x$, find a value for the velocity of the muons.\n",
        "\n",
        "> 2.   **Value found for** $v_{Muon}$: *type your answer here*\n",
        "\n",
        "EXTRA: How does your found value for $v_{Muon}$ compare to the speed of light $c$? Can you say anything about how the muons experienced the distance $\\Delta x$?"
      ],
      "metadata": {
        "id": "Sz5LNf-ZtiIS"
      }
    },
    {
      "cell_type": "markdown",
      "source": [
        "Congratulations! you have now found the velocity of muon particles using your own data."
      ],
      "metadata": {
        "id": "_NdQUl95FXLs"
      }
    }
  ],
  "metadata": {
    "language_info": {
      "name": "python"
    },
    "orig_nbformat": 4,
    "colab": {
      "name": "CMuon_delta_time_data_analysis.ipynb",
      "provenance": []
    },
    "kernelspec": {
      "name": "python3",
      "display_name": "Python 3"
    },
    "gpuClass": "standard"
  },
  "nbformat": 4,
  "nbformat_minor": 0
}